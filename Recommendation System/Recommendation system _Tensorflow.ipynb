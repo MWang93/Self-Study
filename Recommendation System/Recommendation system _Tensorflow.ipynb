{
 "cells": [
  {
   "cell_type": "code",
   "execution_count": 1,
   "metadata": {},
   "outputs": [],
   "source": [
    "import pandas as pd\n",
    "import numpy as np\n",
    "import tensorflow as tf"
   ]
  },
  {
   "cell_type": "code",
   "execution_count": 17,
   "metadata": {},
   "outputs": [],
   "source": [
    "# prepare data\n",
    "ratings_df = pd.read_csv('ratings.csv')\n",
    "movies_df = pd.read_csv('movies.csv')\n",
    "\n",
    "movies_df['movieRow'] = movies_df.index\n",
    "movies_df = movies_df[['movieRow', 'movieId', 'title']]\n",
    "movies_df.to_csv('moviesProcessed.csv')\n",
    "\n",
    "ratings_df = pd.merge(ratings_df, movies_df, on='movieId')\n",
    "ratings_df = ratings_df[['userId', 'movieRow', 'rating']]"
   ]
  },
  {
   "cell_type": "code",
   "execution_count": 29,
   "metadata": {},
   "outputs": [],
   "source": [
    "# movie-user matrix\n",
    "userNo = ratings_df['userId'].max() + 1\n",
    "movieNo = ratings_df['movieRow'].max() + 1\n",
    "\n",
    "rating = np.zeros((movieNo, userNo))\n",
    "flag = 0\n",
    "ratings_df_length = np.shape(ratings_df)[0]\n",
    "\n",
    "for index, row in ratings_df.iterrows():\n",
    "    rating[int(row['movieRow']), int(row['userId'])] = row['rating']\n",
    "    flag += 1\n",
    "\n",
    "record = rating > 0\n",
    "record = np.array(record, dtype = int)"
   ]
  },
  {
   "cell_type": "code",
   "execution_count": 30,
   "metadata": {},
   "outputs": [
    {
     "data": {
      "text/plain": [
       "array([[0, 0, 0, ..., 0, 1, 1],\n",
       "       [0, 0, 0, ..., 0, 0, 0],\n",
       "       [0, 0, 0, ..., 0, 0, 0],\n",
       "       ...,\n",
       "       [0, 0, 0, ..., 0, 0, 0],\n",
       "       [0, 0, 0, ..., 0, 0, 0],\n",
       "       [0, 0, 0, ..., 0, 0, 0]])"
      ]
     },
     "execution_count": 30,
     "metadata": {},
     "output_type": "execute_result"
    }
   ],
   "source": [
    "record"
   ]
  },
  {
   "cell_type": "code",
   "execution_count": 36,
   "metadata": {},
   "outputs": [
    {
     "name": "stderr",
     "output_type": "stream",
     "text": [
      "/usr/local/lib/python3.6/site-packages/numpy/core/fromnumeric.py:2957: RuntimeWarning: Mean of empty slice.\n",
      "  out=out, **kwargs)\n",
      "/usr/local/lib/python3.6/site-packages/numpy/core/_methods.py:80: RuntimeWarning: invalid value encountered in double_scalars\n",
      "  ret = ret.dtype.type(ret / rcount)\n"
     ]
    }
   ],
   "source": [
    "# build model\n",
    "def normalizeRatings(rating, record):\n",
    "    m, n = rating.shape # m=number of movies, n=number of users\n",
    "    ratings_mean = np.zeros((m,1)) # for each movie, we calculate its mean(rating) value\n",
    "    ratings_norm = np.zeros((m,n))\n",
    "    \n",
    "    for i in range(m):\n",
    "        idx = record[i,:] != 0\n",
    "        ratings_mean[i] = np.mean(rating[i,idx])\n",
    "        ratings_norm[i,idx] -=ratings_mean[i]\n",
    "    return ratings_norm, ratings_mean\n",
    "\n",
    "rating_norm, rating_mean = normalizeRatings(rating, record)"
   ]
  },
  {
   "cell_type": "code",
   "execution_count": 41,
   "metadata": {},
   "outputs": [
    {
     "data": {
      "text/plain": [
       "array([[3.87246964],\n",
       "       [3.40186916],\n",
       "       [3.16101695],\n",
       "       ...,\n",
       "       [3.        ],\n",
       "       [0.        ],\n",
       "       [5.        ]])"
      ]
     },
     "execution_count": 41,
     "metadata": {},
     "output_type": "execute_result"
    }
   ],
   "source": [
    "rating_norm = np.nan_to_num(rating_norm)\n",
    "rating_norm\n",
    "\n",
    "rating_mean= np.nan_to_num(rating_mean)\n",
    "rating_mean"
   ]
  },
  {
   "cell_type": "code",
   "execution_count": 44,
   "metadata": {},
   "outputs": [],
   "source": [
    "num_featurs = 10 \n",
    "X_parameters = tf.Variable(tf.random_normal([movieNo, num_featurs], stddev = 0.35))\n",
    "Theta_parameters = tf.Variable(tf.random_normal([userNo, num_featurs], stddev = 0.35))\n",
    "\n",
    "loss = 1/2 * tf.reduce_sum(((tf.matmul(X_parameters, Theta_parameters, transpose_b = True) - rating_norm) * record) **2) + 1/2 * (tf.reduce_sum(X_parameters ** 2) + tf.reduce_sum(Theta_parameters ** 2)) "
   ]
  },
  {
   "cell_type": "code",
   "execution_count": 45,
   "metadata": {},
   "outputs": [],
   "source": [
    "optimizer = tf.train.AdamOptimizer(1e-4)\n",
    "train = optimizer.minimize(loss)"
   ]
  },
  {
   "cell_type": "code",
   "execution_count": 49,
   "metadata": {},
   "outputs": [],
   "source": [
    "# train model\n",
    "tf.summary.scalar('loss', loss)\n",
    "summaryMerged = tf.summary.merge_all()\n",
    "filename = '/Users/mwang/Desktop/System/movie_tensorboard'\n",
    "writer = tf.summary.FileWriter(filename)\n",
    "sess = tf.Session()\n",
    "init = tf.global_variables_initializer()\n",
    "sess.run(init)"
   ]
  },
  {
   "cell_type": "code",
   "execution_count": 50,
   "metadata": {},
   "outputs": [],
   "source": [
    "for i in range(5000):\n",
    "    _, movie_summary = sess.run([train, summaryMerged])\n",
    "    writer.add_summary(movie_summary, i)"
   ]
  },
  {
   "cell_type": "code",
   "execution_count": 53,
   "metadata": {},
   "outputs": [
    {
     "data": {
      "text/plain": [
       "4153.318254600069"
      ]
     },
     "execution_count": 53,
     "metadata": {},
     "output_type": "execute_result"
    }
   ],
   "source": [
    "# evaluate\n",
    "Current_X_paramters, Current_Theta_paramters = sess.run([X_parameters, Theta_parameters])\n",
    "predicts = np.dot(Current_X_paramters, Current_Theta_paramters.T) + rating_mean\n",
    "\n",
    "error = np.sqrt(np.sum((predicts - rating)**2))\n",
    "error"
   ]
  },
  {
   "cell_type": "code",
   "execution_count": 54,
   "metadata": {},
   "outputs": [
    {
     "name": "stdout",
     "output_type": "stream",
     "text": [
      "user_id: 123\n",
      "top 20 recommended movies: \n",
      "score: 5.35, movie: Boy Crazy (2009)\n",
      "score: 5.25, movie: To the Left of the Father (Lavoura Arcaica) (2001)\n",
      "score: 5.19, movie: Defying Gravity (1997)\n",
      "score: 5.10, movie: 29th and Gay (2005)\n",
      "score: 5.08, movie: FAQs (2005)\n",
      "score: 5.04, movie: Curiosity of Chance, The (2006)\n",
      "score: 5.03, movie: Faces (1968)\n",
      "score: 5.00, movie: Edge of Heaven, The (Auf der anderen Seite) (2007)\n",
      "score: 5.00, movie: Shelter (2007)\n",
      "score: 5.00, movie: Shining Through (1992)\n",
      "score: 4.97, movie: Romeos (2011)\n",
      "score: 4.93, movie: Me Before You (2016)\n",
      "score: 4.92, movie: Germany Year Zero (Germania anno zero) (Deutschland im Jahre Null) (1948)\n",
      "score: 4.92, movie: The Man I Love (1997)\n",
      "score: 4.91, movie: Get Your Stuff (2000)\n",
      "score: 4.90, movie: Dorian Blues (2004)\n",
      "score: 4.88, movie: The Biggest Fan (2002)\n",
      "score: 4.85, movie: The Big Gay Musical (2009)\n",
      "score: 4.85, movie: I Think I Do (1997)\n",
      "score: 4.84, movie: Au Hasard Balthazar (1966)\n"
     ]
    }
   ],
   "source": [
    "# build recommendation system \n",
    "user_id = input('user_id: ')\n",
    "sortedResult = predicts[:, int(user_id)].argsort()[::-1]\n",
    "idx = 0\n",
    "print('top 20 recommended movies: ')\n",
    "for i in sortedResult:\n",
    "    print('score: %.2f, movie: %s' %(predicts[i,int(user_id)], movies_df.iloc[i]['title']))\n",
    "    idx += 1\n",
    "    if idx == 20:break"
   ]
  }
 ],
 "metadata": {
  "kernelspec": {
   "display_name": "Python 3",
   "language": "python",
   "name": "python3"
  },
  "language_info": {
   "codemirror_mode": {
    "name": "ipython",
    "version": 3
   },
   "file_extension": ".py",
   "mimetype": "text/x-python",
   "name": "python",
   "nbconvert_exporter": "python",
   "pygments_lexer": "ipython3",
   "version": "3.6.5"
  }
 },
 "nbformat": 4,
 "nbformat_minor": 2
}
