{
 "cells": [
  {
   "cell_type": "code",
   "execution_count": 1,
   "metadata": {},
   "outputs": [],
   "source": [
    "import re"
   ]
  },
  {
   "cell_type": "markdown",
   "metadata": {},
   "source": [
    "# ^ | Matches the expression to its right at the start of a string. \n",
    "It matches every such instance before each \\n in the string."
   ]
  },
  {
   "cell_type": "code",
   "execution_count": 13,
   "metadata": {},
   "outputs": [
    {
     "name": "stdout",
     "output_type": "stream",
     "text": [
      "<_sre.SRE_Match object; span=(0, 4), match='From'>\n",
      "None\n"
     ]
    }
   ],
   "source": [
    "print(re.search('^From', 'From Here to Eternity'))  \n",
    "print(re.search('^From', 'Reciting From Memory'))"
   ]
  },
  {
   "cell_type": "markdown",
   "metadata": {},
   "source": [
    "# $ | Matches the expression to its left at the end of a string. \n",
    "It matches every such instance *before each \\n in the string*."
   ]
  },
  {
   "cell_type": "code",
   "execution_count": 15,
   "metadata": {},
   "outputs": [
    {
     "name": "stdout",
     "output_type": "stream",
     "text": [
      "<_sre.SRE_Match object; span=(6, 7), match='}'>\n",
      "None\n",
      "<_sre.SRE_Match object; span=(6, 7), match='}'>\n"
     ]
    }
   ],
   "source": [
    "print(re.search('}$', '{block}'))  \n",
    "print(re.search('}$', '{block} '))\n",
    "print(re.search('}$', '{block}\\n'))  "
   ]
  },
  {
   "cell_type": "markdown",
   "metadata": {},
   "source": [
    "# (?<=B)A | Positive lookbehind assertion. \n",
    "This matches the expression A only if B is immediately to its left. This can only matched fixed length expressions."
   ]
  },
  {
   "cell_type": "markdown",
   "metadata": {},
   "source": [
    "You have a test String . \n",
    "Write a regex which can match all the occurences of digit which are immediately preceded by odd digit."
   ]
  },
  {
   "cell_type": "code",
   "execution_count": 3,
   "metadata": {},
   "outputs": [
    {
     "name": "stdout",
     "output_type": "stream",
     "text": [
      "['2']\n"
     ]
    }
   ],
   "source": [
    "test_string  = '123!Go'\n",
    "pattern = r'(?<=[13579])\\d'\n",
    "match = re.findall(pattern,test_string)\n",
    "print(match)"
   ]
  },
  {
   "cell_type": "markdown",
   "metadata": {},
   "source": [
    "# (?<!B)A | Negative lookbehind assertion.\n",
    "This matches the expression A only if B is not immediately to its left. This can only matched fixed length expressions."
   ]
  },
  {
   "cell_type": "markdown",
   "metadata": {},
   "source": [
    "You have a test String . \n",
    "Write a regex which can match all the occurences of characters which are not immediately preceded by vowels (a, e, i, u, o, A, E, I, O, U)."
   ]
  },
  {
   "cell_type": "code",
   "execution_count": 4,
   "metadata": {},
   "outputs": [
    {
     "name": "stdout",
     "output_type": "stream",
     "text": [
      "['1', 'o', 's']\n"
     ]
    }
   ],
   "source": [
    "test_string  = '1o1s'\n",
    "pattern = r'(?<![aeiuoAEIOU]).'\n",
    "match = re.findall(pattern,test_string)\n",
    "print(match)"
   ]
  },
  {
   "cell_type": "markdown",
   "metadata": {},
   "source": [
    "# A(?!B) | Negative lookahead assertion. \n",
    "This matches the expression A only if it is not followed by B."
   ]
  },
  {
   "cell_type": "markdown",
   "metadata": {},
   "source": [
    "Given a sentence, , write a RegEx to match the following criteria:\n",
    "\n",
    "1.The first character must be the letter  or .\n",
    "2.The second character must be the letter  or .\n",
    "\n",
    "3.The third character must be a single space (i.e.: ).\n",
    "4.The fourth character must not be the letter  or .a"
   ]
  },
  {
   "cell_type": "code",
   "execution_count": 12,
   "metadata": {},
   "outputs": [
    {
     "name": "stdout",
     "output_type": "stream",
     "text": [
      "<_sre.SRE_Match object; span=(0, 3), match='Hi '>\n"
     ]
    }
   ],
   "source": [
    "test_string = 'Hi Alex how are you doing'\n",
    "regex = r'hi\\s(?!d)'\n",
    "pattern = re.compile(regex,re.IGNORECASE)\n",
    "if re.match(pattern,test_string):\n",
    "    print(re.match(pattern,test_string))"
   ]
  },
  {
   "cell_type": "markdown",
   "metadata": {},
   "source": [
    "# (?=...) Matches if ... matches next, \n",
    "but doesn’t consume any of the string. This is called a lookahead assertion. For example, Isaac (?=Asimov) will match 'Isaac ' only if it’s followed by 'Asimov'."
   ]
  },
  {
   "cell_type": "code",
   "execution_count": 100,
   "metadata": {},
   "outputs": [],
   "source": [
    "# https://www.hackerrank.com/challenges/detect-html-links/problem\n",
    "string ='''<div class=\"portal\" role=\"navigation\" id='p-navigation'>\n",
    "<h3>Navigation</h3>\n",
    "<div class=\"body\">\n",
    "<ul>\n",
    " <li id=\"n-mainpage-description\"><a href=\"/wiki/Main_Page\" title=\"Visit the main page [z]\" accesskey=\"z\">Main page</a></li>\n",
    " <li id=\"n-contents\"><a href=\"/wiki/Portal:Contents\" title=\"Guides to browsing Wikipedia\">Contents</a></li>\n",
    " <li id=\"n-featuredcontent\"><a href=\"/wiki/Portal:Featured_content\" title=\"Featured content  the best of Wikipedia\">Featured content</a></li>\n",
    "<li id=\"n-currentevents\"><a href=\"/wiki/Portal:Current_events\" title=\"Find background information on current events\">Current events</a></li>\n",
    "<li id=\"n-randompage\"><a href=\"/wiki/Special:Random\" title=\"Load a random article [x]\" accesskey=\"x\">Random article</a></li>\n",
    "<li id=\"n-sitesupport\"><a href=\"//donate.wikimedia.org/wiki/Special:FundraiserRedirector?utm_source=donate&utm_medium=sidebar&utm_campaign=C13_en.wikipedia.org&uselang=en\" title=\"Support us\">Donate to Wikipedia</a></li>\n",
    "</ul>\n",
    "</div>\n",
    "</div>'''"
   ]
  },
  {
   "cell_type": "code",
   "execution_count": 98,
   "metadata": {
    "scrolled": true
   },
   "outputs": [
    {
     "name": "stdout",
     "output_type": "stream",
     "text": [
      "/wiki/Main_Page,Main page\n",
      "/wiki/Portal:Contents,Contents\n",
      "/wiki/Portal:Featured_content,Featured content\n",
      "/wiki/Portal:Current_events,Current events\n",
      "/wiki/Special:Random,Random article\n",
      "//donate.wikimedia.org/wiki/Special:FundraiserRedirector?utm_source=donate&utm_medium=sidebar&utm_campaign=C13_en.wikipedia.org&uselang=en,Donate to Wikipedia\n"
     ]
    }
   ],
   "source": [
    "pattern = r'<a href=\"(.*?)\".*?>(.*)(?=</a)'\n",
    "strings = re.findall(pattern,string)\n",
    "for s in strings:\n",
    "    print(\"%s,%s\"%(s[0],s[1]))"
   ]
  },
  {
   "cell_type": "code",
   "execution_count": 101,
   "metadata": {},
   "outputs": [
    {
     "name": "stdout",
     "output_type": "stream",
     "text": [
      "/wiki/Main_Page,Main page\n",
      "/wiki/Portal:Contents,Contents\n",
      "/wiki/Portal:Featured_content,Featured content\n",
      "/wiki/Portal:Current_events,Current events\n",
      "/wiki/Special:Random,Random article\n",
      "//donate.wikimedia.org/wiki/Special:FundraiserRedirector?utm_source=donate&utm_medium=sidebar&utm_campaign=C13_en.wikipedia.org&uselang=en,Donate to Wikipedia\n"
     ]
    }
   ],
   "source": [
    "pattern = r'<a href=\".*>.*</a>'\n",
    "strings = re.findall(pattern,string)\n",
    "for string in strings:\n",
    "    #print(string.split('>'))\n",
    "    link = string.split('\"')[1]\n",
    "    text = string.split('>')[-2][:-3]\n",
    "    print(\"%s,%s\" %(link,text))"
   ]
  }
 ],
 "metadata": {
  "kernelspec": {
   "display_name": "Python 3",
   "language": "python",
   "name": "python3"
  },
  "language_info": {
   "codemirror_mode": {
    "name": "ipython",
    "version": 3
   },
   "file_extension": ".py",
   "mimetype": "text/x-python",
   "name": "python",
   "nbconvert_exporter": "python",
   "pygments_lexer": "ipython3",
   "version": "3.6.5"
  }
 },
 "nbformat": 4,
 "nbformat_minor": 2
}
